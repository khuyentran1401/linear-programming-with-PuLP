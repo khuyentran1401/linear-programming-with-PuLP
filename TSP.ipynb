{
 "cells": [
  {
   "cell_type": "markdown",
   "metadata": {},
   "source": [
    "# Symmetric TSP Problem"
   ]
  },
  {
   "cell_type": "code",
   "execution_count": 1,
   "metadata": {},
   "outputs": [],
   "source": [
    "distance = [[9999,26,40,34,35,48,30,23,48,17,20,29],\n",
    "            [26,9999,64,61,59,78,54,47,50,29,28,33],\n",
    "            [40,64,9999,3,5,8,10,15,24,30,33,39],\n",
    "            [34,61,3,9999,3,10,8,13,26,28,30,35],\n",
    "            [35,59,5,3,9999,13,5,10,29,25,28,33],\n",
    "            [48,78,8,10,13,9999,18,23,16,38,39,33],\n",
    "            [30,54,10,8,5,18,9999,5,34,20,23,28],\n",
    "            [23,47,15,13,10,23,5,9999,38,15,18,23],\n",
    "            [48,50,24,26,29,16,34,38,9999,23,21,16],\n",
    "            [17,29,30,28,25,38,20,15,23,9999,3,8],\n",
    "            [20,28,33,30,28,39,23,18,21,3,9999,5],\n",
    "            [29,33,39,35,33,33,28,23,16,8,5,9999]]"
   ]
  },
  {
   "cell_type": "code",
   "execution_count": 2,
   "metadata": {},
   "outputs": [],
   "source": [
    "import pandas as pd"
   ]
  },
  {
   "cell_type": "code",
   "execution_count": 3,
   "metadata": {},
   "outputs": [
    {
     "data": {
      "text/html": [
       "<div>\n",
       "<style scoped>\n",
       "    .dataframe tbody tr th:only-of-type {\n",
       "        vertical-align: middle;\n",
       "    }\n",
       "\n",
       "    .dataframe tbody tr th {\n",
       "        vertical-align: top;\n",
       "    }\n",
       "\n",
       "    .dataframe thead th {\n",
       "        text-align: right;\n",
       "    }\n",
       "</style>\n",
       "<table border=\"1\" class=\"dataframe\">\n",
       "  <thead>\n",
       "    <tr style=\"text-align: right;\">\n",
       "      <th></th>\n",
       "      <th>0</th>\n",
       "      <th>1</th>\n",
       "      <th>2</th>\n",
       "      <th>3</th>\n",
       "      <th>4</th>\n",
       "      <th>5</th>\n",
       "      <th>6</th>\n",
       "      <th>7</th>\n",
       "      <th>8</th>\n",
       "      <th>9</th>\n",
       "      <th>10</th>\n",
       "      <th>11</th>\n",
       "    </tr>\n",
       "  </thead>\n",
       "  <tbody>\n",
       "    <tr>\n",
       "      <td>0</td>\n",
       "      <td>9999</td>\n",
       "      <td>26</td>\n",
       "      <td>40</td>\n",
       "      <td>34</td>\n",
       "      <td>35</td>\n",
       "      <td>48</td>\n",
       "      <td>30</td>\n",
       "      <td>23</td>\n",
       "      <td>48</td>\n",
       "      <td>17</td>\n",
       "      <td>20</td>\n",
       "      <td>29</td>\n",
       "    </tr>\n",
       "    <tr>\n",
       "      <td>1</td>\n",
       "      <td>26</td>\n",
       "      <td>9999</td>\n",
       "      <td>64</td>\n",
       "      <td>61</td>\n",
       "      <td>59</td>\n",
       "      <td>78</td>\n",
       "      <td>54</td>\n",
       "      <td>47</td>\n",
       "      <td>50</td>\n",
       "      <td>29</td>\n",
       "      <td>28</td>\n",
       "      <td>33</td>\n",
       "    </tr>\n",
       "    <tr>\n",
       "      <td>2</td>\n",
       "      <td>40</td>\n",
       "      <td>64</td>\n",
       "      <td>9999</td>\n",
       "      <td>3</td>\n",
       "      <td>5</td>\n",
       "      <td>8</td>\n",
       "      <td>10</td>\n",
       "      <td>15</td>\n",
       "      <td>24</td>\n",
       "      <td>30</td>\n",
       "      <td>33</td>\n",
       "      <td>39</td>\n",
       "    </tr>\n",
       "    <tr>\n",
       "      <td>3</td>\n",
       "      <td>34</td>\n",
       "      <td>61</td>\n",
       "      <td>3</td>\n",
       "      <td>9999</td>\n",
       "      <td>3</td>\n",
       "      <td>10</td>\n",
       "      <td>8</td>\n",
       "      <td>13</td>\n",
       "      <td>26</td>\n",
       "      <td>28</td>\n",
       "      <td>30</td>\n",
       "      <td>35</td>\n",
       "    </tr>\n",
       "    <tr>\n",
       "      <td>4</td>\n",
       "      <td>35</td>\n",
       "      <td>59</td>\n",
       "      <td>5</td>\n",
       "      <td>3</td>\n",
       "      <td>9999</td>\n",
       "      <td>13</td>\n",
       "      <td>5</td>\n",
       "      <td>10</td>\n",
       "      <td>29</td>\n",
       "      <td>25</td>\n",
       "      <td>28</td>\n",
       "      <td>33</td>\n",
       "    </tr>\n",
       "    <tr>\n",
       "      <td>5</td>\n",
       "      <td>48</td>\n",
       "      <td>78</td>\n",
       "      <td>8</td>\n",
       "      <td>10</td>\n",
       "      <td>13</td>\n",
       "      <td>9999</td>\n",
       "      <td>18</td>\n",
       "      <td>23</td>\n",
       "      <td>16</td>\n",
       "      <td>38</td>\n",
       "      <td>39</td>\n",
       "      <td>33</td>\n",
       "    </tr>\n",
       "    <tr>\n",
       "      <td>6</td>\n",
       "      <td>30</td>\n",
       "      <td>54</td>\n",
       "      <td>10</td>\n",
       "      <td>8</td>\n",
       "      <td>5</td>\n",
       "      <td>18</td>\n",
       "      <td>9999</td>\n",
       "      <td>5</td>\n",
       "      <td>34</td>\n",
       "      <td>20</td>\n",
       "      <td>23</td>\n",
       "      <td>28</td>\n",
       "    </tr>\n",
       "    <tr>\n",
       "      <td>7</td>\n",
       "      <td>23</td>\n",
       "      <td>47</td>\n",
       "      <td>15</td>\n",
       "      <td>13</td>\n",
       "      <td>10</td>\n",
       "      <td>23</td>\n",
       "      <td>5</td>\n",
       "      <td>9999</td>\n",
       "      <td>38</td>\n",
       "      <td>15</td>\n",
       "      <td>18</td>\n",
       "      <td>23</td>\n",
       "    </tr>\n",
       "    <tr>\n",
       "      <td>8</td>\n",
       "      <td>48</td>\n",
       "      <td>50</td>\n",
       "      <td>24</td>\n",
       "      <td>26</td>\n",
       "      <td>29</td>\n",
       "      <td>16</td>\n",
       "      <td>34</td>\n",
       "      <td>38</td>\n",
       "      <td>9999</td>\n",
       "      <td>23</td>\n",
       "      <td>21</td>\n",
       "      <td>16</td>\n",
       "    </tr>\n",
       "    <tr>\n",
       "      <td>9</td>\n",
       "      <td>17</td>\n",
       "      <td>29</td>\n",
       "      <td>30</td>\n",
       "      <td>28</td>\n",
       "      <td>25</td>\n",
       "      <td>38</td>\n",
       "      <td>20</td>\n",
       "      <td>15</td>\n",
       "      <td>23</td>\n",
       "      <td>9999</td>\n",
       "      <td>3</td>\n",
       "      <td>8</td>\n",
       "    </tr>\n",
       "    <tr>\n",
       "      <td>10</td>\n",
       "      <td>20</td>\n",
       "      <td>28</td>\n",
       "      <td>33</td>\n",
       "      <td>30</td>\n",
       "      <td>28</td>\n",
       "      <td>39</td>\n",
       "      <td>23</td>\n",
       "      <td>18</td>\n",
       "      <td>21</td>\n",
       "      <td>3</td>\n",
       "      <td>9999</td>\n",
       "      <td>5</td>\n",
       "    </tr>\n",
       "    <tr>\n",
       "      <td>11</td>\n",
       "      <td>29</td>\n",
       "      <td>33</td>\n",
       "      <td>39</td>\n",
       "      <td>35</td>\n",
       "      <td>33</td>\n",
       "      <td>33</td>\n",
       "      <td>28</td>\n",
       "      <td>23</td>\n",
       "      <td>16</td>\n",
       "      <td>8</td>\n",
       "      <td>5</td>\n",
       "      <td>9999</td>\n",
       "    </tr>\n",
       "  </tbody>\n",
       "</table>\n",
       "</div>"
      ],
      "text/plain": [
       "      0     1     2     3     4     5     6     7     8     9     10    11\n",
       "0   9999    26    40    34    35    48    30    23    48    17    20    29\n",
       "1     26  9999    64    61    59    78    54    47    50    29    28    33\n",
       "2     40    64  9999     3     5     8    10    15    24    30    33    39\n",
       "3     34    61     3  9999     3    10     8    13    26    28    30    35\n",
       "4     35    59     5     3  9999    13     5    10    29    25    28    33\n",
       "5     48    78     8    10    13  9999    18    23    16    38    39    33\n",
       "6     30    54    10     8     5    18  9999     5    34    20    23    28\n",
       "7     23    47    15    13    10    23     5  9999    38    15    18    23\n",
       "8     48    50    24    26    29    16    34    38  9999    23    21    16\n",
       "9     17    29    30    28    25    38    20    15    23  9999     3     8\n",
       "10    20    28    33    30    28    39    23    18    21     3  9999     5\n",
       "11    29    33    39    35    33    33    28    23    16     8     5  9999"
      ]
     },
     "execution_count": 3,
     "metadata": {},
     "output_type": "execute_result"
    }
   ],
   "source": [
    "pd.DataFrame(distance, index=[n for n in range(12)],columns= [n for n in range(12)])"
   ]
  },
  {
   "cell_type": "code",
   "execution_count": 4,
   "metadata": {},
   "outputs": [],
   "source": [
    "from pulp import *"
   ]
  },
  {
   "cell_type": "code",
   "execution_count": 5,
   "metadata": {},
   "outputs": [
    {
     "name": "stderr",
     "output_type": "stream",
     "text": [
      "/Users/khuyentran/opt/anaconda3/lib/python3.7/site-packages/pulp/pulp.py:1137: UserWarning: Spaces are not permitted in the name. Converted to '_'\n",
      "  warnings.warn(\"Spaces are not permitted in the name. Converted to '_'\")\n"
     ]
    }
   ],
   "source": [
    "prob = LpProblem(\"Traveling Saleman Problem\", LpMinimize)"
   ]
  },
  {
   "cell_type": "code",
   "execution_count": 6,
   "metadata": {},
   "outputs": [],
   "source": [
    "#Set a list of arcs with nodes i, j\n",
    "y  = LpVariable.dicts('arc',[(i,j) for i in range(12) for j in range(12)], cat = 'Binary')\n",
    "\n",
    "#List of the sequence number of city j in a tour\n",
    "\n",
    "u = LpVariable.dicts('city',[i for i in range(12)], cat = 'Integer', lowBound = 0, upBound = 12)"
   ]
  },
  {
   "cell_type": "code",
   "execution_count": 7,
   "metadata": {},
   "outputs": [],
   "source": [
    "#Objective is to minimize the total distance\n",
    "prob += lpSum(distance[i][j] * y[(i,j)] for i in range(12) for j in range(12))"
   ]
  },
  {
   "cell_type": "code",
   "execution_count": 8,
   "metadata": {},
   "outputs": [],
   "source": [
    "V = set(range(12))"
   ]
  },
  {
   "cell_type": "code",
   "execution_count": 9,
   "metadata": {},
   "outputs": [],
   "source": [
    "from itertools import product\n",
    "#Define constraints\n",
    "#Exactly 2 arcs are incident to one city \n",
    "\n",
    "for i in range(12):\n",
    "    prob += lpSum(y[(i,j)] for j in V - {i}) == 1\n",
    "\n",
    "for i in range(12):\n",
    "    prob += lpSum(y[(j,i)] for j in V - {i}) == 1\n",
    "    \n",
    "for (i,j) in product(V-{11}, V-{11}):\n",
    "        if i != j:\n",
    "            prob += u[i]  - u[j] + 12*y[(i,j)] <= 11"
   ]
  },
  {
   "cell_type": "code",
   "execution_count": 10,
   "metadata": {},
   "outputs": [
    {
     "data": {
      "text/plain": [
       "1"
      ]
     },
     "execution_count": 10,
     "metadata": {},
     "output_type": "execute_result"
    }
   ],
   "source": [
    "prob.solve()"
   ]
  },
  {
   "cell_type": "code",
   "execution_count": 11,
   "metadata": {},
   "outputs": [
    {
     "data": {
      "text/plain": [
       "[arc_(0,_0),\n",
       " arc_(0,_1),\n",
       " arc_(0,_10),\n",
       " arc_(0,_11),\n",
       " arc_(0,_2),\n",
       " arc_(0,_3),\n",
       " arc_(0,_4),\n",
       " arc_(0,_5),\n",
       " arc_(0,_6),\n",
       " arc_(0,_7),\n",
       " arc_(0,_8),\n",
       " arc_(0,_9),\n",
       " arc_(1,_0),\n",
       " arc_(1,_1),\n",
       " arc_(1,_10),\n",
       " arc_(1,_11),\n",
       " arc_(1,_2),\n",
       " arc_(1,_3),\n",
       " arc_(1,_4),\n",
       " arc_(1,_5),\n",
       " arc_(1,_6),\n",
       " arc_(1,_7),\n",
       " arc_(1,_8),\n",
       " arc_(1,_9),\n",
       " arc_(10,_0),\n",
       " arc_(10,_1),\n",
       " arc_(10,_10),\n",
       " arc_(10,_11),\n",
       " arc_(10,_2),\n",
       " arc_(10,_3),\n",
       " arc_(10,_4),\n",
       " arc_(10,_5),\n",
       " arc_(10,_6),\n",
       " arc_(10,_7),\n",
       " arc_(10,_8),\n",
       " arc_(10,_9),\n",
       " arc_(11,_0),\n",
       " arc_(11,_1),\n",
       " arc_(11,_10),\n",
       " arc_(11,_11),\n",
       " arc_(11,_2),\n",
       " arc_(11,_3),\n",
       " arc_(11,_4),\n",
       " arc_(11,_5),\n",
       " arc_(11,_6),\n",
       " arc_(11,_7),\n",
       " arc_(11,_8),\n",
       " arc_(11,_9),\n",
       " arc_(2,_0),\n",
       " arc_(2,_1),\n",
       " arc_(2,_10),\n",
       " arc_(2,_11),\n",
       " arc_(2,_2),\n",
       " arc_(2,_3),\n",
       " arc_(2,_4),\n",
       " arc_(2,_5),\n",
       " arc_(2,_6),\n",
       " arc_(2,_7),\n",
       " arc_(2,_8),\n",
       " arc_(2,_9),\n",
       " arc_(3,_0),\n",
       " arc_(3,_1),\n",
       " arc_(3,_10),\n",
       " arc_(3,_11),\n",
       " arc_(3,_2),\n",
       " arc_(3,_3),\n",
       " arc_(3,_4),\n",
       " arc_(3,_5),\n",
       " arc_(3,_6),\n",
       " arc_(3,_7),\n",
       " arc_(3,_8),\n",
       " arc_(3,_9),\n",
       " arc_(4,_0),\n",
       " arc_(4,_1),\n",
       " arc_(4,_10),\n",
       " arc_(4,_11),\n",
       " arc_(4,_2),\n",
       " arc_(4,_3),\n",
       " arc_(4,_4),\n",
       " arc_(4,_5),\n",
       " arc_(4,_6),\n",
       " arc_(4,_7),\n",
       " arc_(4,_8),\n",
       " arc_(4,_9),\n",
       " arc_(5,_0),\n",
       " arc_(5,_1),\n",
       " arc_(5,_10),\n",
       " arc_(5,_11),\n",
       " arc_(5,_2),\n",
       " arc_(5,_3),\n",
       " arc_(5,_4),\n",
       " arc_(5,_5),\n",
       " arc_(5,_6),\n",
       " arc_(5,_7),\n",
       " arc_(5,_8),\n",
       " arc_(5,_9),\n",
       " arc_(6,_0),\n",
       " arc_(6,_1),\n",
       " arc_(6,_10),\n",
       " arc_(6,_11),\n",
       " arc_(6,_2),\n",
       " arc_(6,_3),\n",
       " arc_(6,_4),\n",
       " arc_(6,_5),\n",
       " arc_(6,_6),\n",
       " arc_(6,_7),\n",
       " arc_(6,_8),\n",
       " arc_(6,_9),\n",
       " arc_(7,_0),\n",
       " arc_(7,_1),\n",
       " arc_(7,_10),\n",
       " arc_(7,_11),\n",
       " arc_(7,_2),\n",
       " arc_(7,_3),\n",
       " arc_(7,_4),\n",
       " arc_(7,_5),\n",
       " arc_(7,_6),\n",
       " arc_(7,_7),\n",
       " arc_(7,_8),\n",
       " arc_(7,_9),\n",
       " arc_(8,_0),\n",
       " arc_(8,_1),\n",
       " arc_(8,_10),\n",
       " arc_(8,_11),\n",
       " arc_(8,_2),\n",
       " arc_(8,_3),\n",
       " arc_(8,_4),\n",
       " arc_(8,_5),\n",
       " arc_(8,_6),\n",
       " arc_(8,_7),\n",
       " arc_(8,_8),\n",
       " arc_(8,_9),\n",
       " arc_(9,_0),\n",
       " arc_(9,_1),\n",
       " arc_(9,_10),\n",
       " arc_(9,_11),\n",
       " arc_(9,_2),\n",
       " arc_(9,_3),\n",
       " arc_(9,_4),\n",
       " arc_(9,_5),\n",
       " arc_(9,_6),\n",
       " arc_(9,_7),\n",
       " arc_(9,_8),\n",
       " arc_(9,_9),\n",
       " city_0,\n",
       " city_1,\n",
       " city_10,\n",
       " city_2,\n",
       " city_3,\n",
       " city_4,\n",
       " city_5,\n",
       " city_6,\n",
       " city_7,\n",
       " city_8,\n",
       " city_9]"
      ]
     },
     "execution_count": 11,
     "metadata": {},
     "output_type": "execute_result"
    }
   ],
   "source": [
    "prob.writeLP('TSP.txt')"
   ]
  },
  {
   "cell_type": "code",
   "execution_count": 12,
   "metadata": {},
   "outputs": [
    {
     "name": "stdout",
     "output_type": "stream",
     "text": [
      "arc (0,1): 1.0\n",
      "arc (1,9): 1.0\n",
      "arc (2,3): 1.0\n",
      "arc (3,4): 1.0\n",
      "arc (4,6): 1.0\n",
      "arc (5,2): 1.0\n",
      "arc (6,7): 1.0\n",
      "arc (7,0): 1.0\n",
      "arc (8,5): 1.0\n",
      "arc (9,10): 1.0\n",
      "arc (10,11): 1.0\n",
      "arc (11,8): 1.0\n"
     ]
    }
   ],
   "source": [
    "path = []\n",
    "for i in range(12):\n",
    "    for j in range(12):\n",
    "        if y[(i,j)].varValue == 1:\n",
    "            print('arc ({},{}): {}'.format(i,j,y[(i,j)].varValue))\n",
    "            path.append((i,j))"
   ]
  },
  {
   "cell_type": "code",
   "execution_count": 14,
   "metadata": {},
   "outputs": [],
   "source": [
    "import networkx as nx\n",
    "import matplotlib.pyplot as plt\n",
    "G = nx.Graph()\n",
    "G.add_nodes_from([i for i in range(12)])\n"
   ]
  },
  {
   "cell_type": "code",
   "execution_count": 15,
   "metadata": {},
   "outputs": [],
   "source": [
    "G.add_edges_from([(i,j) for (i,j) in path])"
   ]
  },
  {
   "cell_type": "code",
   "execution_count": 18,
   "metadata": {},
   "outputs": [
    {
     "name": "stderr",
     "output_type": "stream",
     "text": [
      "/Users/khuyentran/opt/anaconda3/lib/python3.7/site-packages/networkx/drawing/nx_pylab.py:579: MatplotlibDeprecationWarning: \n",
      "The iterable function was deprecated in Matplotlib 3.1 and will be removed in 3.3. Use np.iterable instead.\n",
      "  if not cb.iterable(width):\n"
     ]
    },
    {
     "data": {
      "image/png": "[encoded data removed]",
      "text/plain": [
       "<Figure size 432x288 with 1 Axes>"
      ]
     },
     "metadata": {},
     "output_type": "display_data"
    }
   ],
   "source": [
    "nx.draw(G)"
   ]
  },
  {
   "cell_type": "code",
   "execution_count": 19,
   "metadata": {},
   "outputs": [
    {
     "data": {
      "text/plain": [
       "<Figure size 432x288 with 0 Axes>"
      ]
     },
     "metadata": {},
     "output_type": "display_data"
    }
   ],
   "source": [
    "plt.savefig(\"simple_path.png\")"
   ]
  }
 ],
 "metadata": {
  "kernelspec": {
   "display_name": "Python 3",
   "language": "python",
   "name": "python3"
  },
  "language_info": {
   "codemirror_mode": {
    "name": "ipython",
    "version": 3
   },
   "file_extension": ".py",
   "mimetype": "text/x-python",
   "name": "python",
   "nbconvert_exporter": "python",
   "pygments_lexer": "ipython3",
   "version": "3.7.4"
  }
 },
 "nbformat": 4,
 "nbformat_minor": 2
}
