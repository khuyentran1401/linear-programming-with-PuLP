{
 "cells": [
  {
   "cell_type": "code",
   "execution_count": 195,
   "metadata": {},
   "outputs": [],
   "source": [
    "from pulp import *\n",
    "# Create the 'prob' variable to contain the problem data\n",
    "prob = LpProblem(\"Matching Analysts\", LpMaximize)"
   ]
  },
  {
   "cell_type": "code",
   "execution_count": 196,
   "metadata": {},
   "outputs": [],
   "source": [
    "from pulp import *"
   ]
  },
  {
   "cell_type": "code",
   "execution_count": 197,
   "metadata": {},
   "outputs": [],
   "source": [
    "analyst = range(8)\n",
    "offices = 4"
   ]
  },
  {
   "cell_type": "code",
   "execution_count": 198,
   "metadata": {},
   "outputs": [],
   "source": [
    "prob = LpProblem(\"Matching Analysts\", LpMinimize)"
   ]
  },
  {
   "cell_type": "code",
   "execution_count": 199,
   "metadata": {},
   "outputs": [],
   "source": [
    "\n",
    "y = LpVariable.dicts(\"pair\", [(i,j) for i in analyst for j in analyst] ,cat='Binary')"
   ]
  },
  {
   "cell_type": "code",
   "execution_count": 200,
   "metadata": {},
   "outputs": [],
   "source": [
    "c = [[0, 9, 3, 4, 2, 1, 5, 6],\n",
    "    [0, 0, 1, 7, 3, 5, 2, 1],\n",
    "    [0, 0, 0, 4, 4, 2, 9, 2],\n",
    "    [0, 0, 0, 0, 1, 5, 5, 2],\n",
    "    [0, 0, 0, 0, 0, 8, 7, 6],\n",
    "    [0, 0, 0, 0, 0, 0, 2, 3],\n",
    "    [0, 0, 0, 0, 0, 0, 0, 4],\n",
    "    [0, 0, 0, 0, 0, 0, 0, 0]]"
   ]
  },
  {
   "cell_type": "code",
   "execution_count": 201,
   "metadata": {},
   "outputs": [],
   "source": [
    "prob += lpSum([c[i][j] * y[(i,j)] for i in analyst for j in analyst])"
   ]
  },
  {
   "cell_type": "code",
   "execution_count": 202,
   "metadata": {},
   "outputs": [],
   "source": [
    "for i in analyst:\n",
    "    prob += lpSum(y[(i,j)] for j in analyst) <= 1\n",
    "    prob += lpSum(y[(j,i)] for j in analyst) <= 1\n",
    "    prob += lpSum(y[(i,j)] for j in analyst)+ lpSum(y[(j,i)] for j in analyst) <= 1\n",
    "prob += lpSum([a[i][j] * y[(i,j)] for i in analyst for j in analyst]) == 4"
   ]
  },
  {
   "cell_type": "code",
   "execution_count": 203,
   "metadata": {},
   "outputs": [
    {
     "data": {
      "text/plain": [
       "1"
      ]
     },
     "execution_count": 203,
     "metadata": {},
     "output_type": "execute_result"
    }
   ],
   "source": [
    "prob.solve()"
   ]
  },
  {
   "cell_type": "code",
   "execution_count": 213,
   "metadata": {},
   "outputs": [
    {
     "name": "stdout",
     "output_type": "stream",
     "text": [
      "analyst 1 and analyst 6\n",
      "analyst 2 and analyst 7\n",
      "analyst 3 and analyst 8\n",
      "analyst 4 and analyst 5\n"
     ]
    }
   ],
   "source": [
    "for (i,j) in pairs:\n",
    "    if y[(i,j)].varValue == 1:\n",
    "        print('analyst {} and analyst {}'.format(i+1,j+1))"
   ]
  },
  {
   "cell_type": "code",
   "execution_count": 214,
   "metadata": {},
   "outputs": [
    {
     "data": {
      "text/plain": [
       "[pair_(0,_0),\n",
       " pair_(0,_1),\n",
       " pair_(0,_2),\n",
       " pair_(0,_3),\n",
       " pair_(0,_4),\n",
       " pair_(0,_5),\n",
       " pair_(0,_6),\n",
       " pair_(0,_7),\n",
       " pair_(1,_0),\n",
       " pair_(1,_1),\n",
       " pair_(1,_2),\n",
       " pair_(1,_3),\n",
       " pair_(1,_4),\n",
       " pair_(1,_5),\n",
       " pair_(1,_6),\n",
       " pair_(1,_7),\n",
       " pair_(2,_0),\n",
       " pair_(2,_1),\n",
       " pair_(2,_2),\n",
       " pair_(2,_3),\n",
       " pair_(2,_4),\n",
       " pair_(2,_5),\n",
       " pair_(2,_6),\n",
       " pair_(2,_7),\n",
       " pair_(3,_0),\n",
       " pair_(3,_1),\n",
       " pair_(3,_2),\n",
       " pair_(3,_3),\n",
       " pair_(3,_4),\n",
       " pair_(3,_5),\n",
       " pair_(3,_6),\n",
       " pair_(3,_7),\n",
       " pair_(4,_0),\n",
       " pair_(4,_1),\n",
       " pair_(4,_2),\n",
       " pair_(4,_3),\n",
       " pair_(4,_4),\n",
       " pair_(4,_5),\n",
       " pair_(4,_6),\n",
       " pair_(4,_7),\n",
       " pair_(5,_0),\n",
       " pair_(5,_1),\n",
       " pair_(5,_2),\n",
       " pair_(5,_3),\n",
       " pair_(5,_4),\n",
       " pair_(5,_5),\n",
       " pair_(5,_6),\n",
       " pair_(5,_7),\n",
       " pair_(6,_0),\n",
       " pair_(6,_1),\n",
       " pair_(6,_2),\n",
       " pair_(6,_3),\n",
       " pair_(6,_4),\n",
       " pair_(6,_5),\n",
       " pair_(6,_6),\n",
       " pair_(6,_7),\n",
       " pair_(7,_0),\n",
       " pair_(7,_1),\n",
       " pair_(7,_2),\n",
       " pair_(7,_3),\n",
       " pair_(7,_4),\n",
       " pair_(7,_5),\n",
       " pair_(7,_6),\n",
       " pair_(7,_7)]"
      ]
     },
     "execution_count": 214,
     "metadata": {},
     "output_type": "execute_result"
    }
   ],
   "source": [
    "prob.writeLP('analyst.txt')"
   ]
  },
  {
   "cell_type": "code",
   "execution_count": 215,
   "metadata": {},
   "outputs": [
    {
     "data": {
      "text/plain": [
       "6.0"
      ]
     },
     "execution_count": 215,
     "metadata": {},
     "output_type": "execute_result"
    }
   ],
   "source": [
    "pulp.value(prob.objective)"
   ]
  },
  {
   "cell_type": "code",
   "execution_count": 216,
   "metadata": {},
   "outputs": [
    {
     "data": {
      "text/plain": [
       "'Optimal'"
      ]
     },
     "execution_count": 216,
     "metadata": {},
     "output_type": "execute_result"
    }
   ],
   "source": [
    "pulp.LpStatus[prob.status]"
   ]
  },
  {
   "cell_type": "code",
   "execution_count": null,
   "metadata": {},
   "outputs": [],
   "source": []
  }
 ],
 "metadata": {
  "kernelspec": {
   "display_name": "Python 3",
   "language": "python",
   "name": "python3"
  },
  "language_info": {
   "codemirror_mode": {
    "name": "ipython",
    "version": 3
   },
   "file_extension": ".py",
   "mimetype": "text/x-python",
   "name": "python",
   "nbconvert_exporter": "python",
   "pygments_lexer": "ipython3",
   "version": "3.7.4"
  }
 },
 "nbformat": 4,
 "nbformat_minor": 2
}
