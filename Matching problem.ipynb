{
 "cells": [
  {
   "cell_type": "markdown",
   "metadata": {
    "toc": true
   },
   "source": [
    "<h1>Table of Contents<span class=\"tocSkip\"></span></h1>\n",
    "<div class=\"toc\"><ul class=\"toc-item\"><li><span><a href=\"#Define-Problem\" data-toc-modified-id=\"Define-Problem-1\"><span class=\"toc-item-num\">1&nbsp;&nbsp;</span>Define Problem</a></span></li><li><span><a href=\"#Parameter\" data-toc-modified-id=\"Parameter-2\"><span class=\"toc-item-num\">2&nbsp;&nbsp;</span>Parameter</a></span></li><li><span><a href=\"#Decision-Variables\" data-toc-modified-id=\"Decision-Variables-3\"><span class=\"toc-item-num\">3&nbsp;&nbsp;</span>Decision Variables</a></span></li><li><span><a href=\"#Objective\" data-toc-modified-id=\"Objective-4\"><span class=\"toc-item-num\">4&nbsp;&nbsp;</span>Objective</a></span></li><li><span><a href=\"#Contraints\" data-toc-modified-id=\"Contraints-5\"><span class=\"toc-item-num\">5&nbsp;&nbsp;</span>Contraints</a></span></li><li><span><a href=\"#Solve-the-Problem\" data-toc-modified-id=\"Solve-the-Problem-6\"><span class=\"toc-item-num\">6&nbsp;&nbsp;</span>Solve the Problem</a></span></li></ul></div>"
   ]
  },
  {
   "cell_type": "markdown",
   "metadata": {},
   "source": [
    "# Define Problem"
   ]
  },
  {
   "cell_type": "code",
   "execution_count": 1,
   "metadata": {
    "ExecuteTime": {
     "end_time": "2020-03-08T14:58:38.199440Z",
     "start_time": "2020-03-08T14:58:35.108590Z"
    },
    "scrolled": true
   },
   "outputs": [
    {
     "name": "stdout",
     "output_type": "stream",
     "text": [
      "Requirement already satisfied: pulp in /Library/Frameworks/Python.framework/Versions/3.7/lib/python3.7/site-packages (2.0)\n",
      "Requirement already satisfied: pyparsing>=2.0.1 in /Library/Frameworks/Python.framework/Versions/3.7/lib/python3.7/site-packages/pyparsing-2.4.6-py3.7.egg (from pulp) (2.4.6)\n"
     ]
    },
    {
     "name": "stderr",
     "output_type": "stream",
     "text": [
      "/Library/Frameworks/Python.framework/Versions/3.7/lib/python3.7/site-packages/pulp/pulp.py:1137: UserWarning: Spaces are not permitted in the name. Converted to '_'\n",
      "  warnings.warn(\"Spaces are not permitted in the name. Converted to '_'\")\n"
     ]
    }
   ],
   "source": [
    "!pip install pulp\n",
    "from pulp import *\n",
    "# Create the 'prob' variable to contain the problem data\n",
    "prob = LpProblem(\"Matching Employees\", LpMaximize)"
   ]
  },
  {
   "cell_type": "markdown",
   "metadata": {},
   "source": [
    "# Parameter"
   ]
  },
  {
   "cell_type": "code",
   "execution_count": 4,
   "metadata": {
    "ExecuteTime": {
     "end_time": "2020-03-08T14:58:40.082875Z",
     "start_time": "2020-03-08T14:58:38.263867Z"
    }
   },
   "outputs": [
    {
     "data": {
      "text/plain": [
       "array([[0, 0, 3, 3, 7, 9, 3, 5],\n",
       "       [2, 0, 7, 6, 8, 8, 1, 6],\n",
       "       [7, 7, 0, 1, 5, 9, 8, 9],\n",
       "       [4, 3, 0, 0, 5, 0, 2, 3],\n",
       "       [8, 1, 3, 3, 0, 7, 0, 1],\n",
       "       [9, 9, 0, 4, 7, 0, 2, 7],\n",
       "       [2, 0, 0, 4, 5, 5, 0, 8],\n",
       "       [4, 1, 4, 9, 8, 1, 1, 0]])"
      ]
     },
     "execution_count": 4,
     "metadata": {},
     "output_type": "execute_result"
    }
   ],
   "source": [
    "import numpy as np \n",
    "import pandas as pd\n",
    "np.random.seed(0)\n",
    "\n",
    "c = np.random.randint(0,10, (8,8))\n",
    "np.fill_diagonal(c,0)\n",
    "\n",
    "c"
   ]
  },
  {
   "cell_type": "code",
   "execution_count": 2,
   "metadata": {
    "ExecuteTime": {
     "end_time": "2020-03-08T14:58:38.208973Z",
     "start_time": "2020-03-08T14:58:38.203594Z"
    }
   },
   "outputs": [],
   "source": [
    "employees = range(8)\n",
    "group = 4"
   ]
  },
  {
   "cell_type": "markdown",
   "metadata": {},
   "source": [
    "# Decision Variables"
   ]
  },
  {
   "cell_type": "markdown",
   "metadata": {},
   "source": [
    "\\begin{equation} \\label{y_var_def}\n",
    "    y_{i,j} = \\left \\{ \\begin{array}{ll}\n",
    "      1 & \\mbox{if employee $i$ is paired with employee $j$}\\\\\n",
    "      0 & \\mbox{otherwise.} \\end{array} \\right.\n",
    "  \\end{equation}"
   ]
  },
  {
   "cell_type": "code",
   "execution_count": 3,
   "metadata": {
    "ExecuteTime": {
     "end_time": "2020-03-08T14:58:38.259886Z",
     "start_time": "2020-03-08T14:58:38.222421Z"
    },
    "run_control": {
     "marked": true
    }
   },
   "outputs": [],
   "source": [
    "#Define the variables\n",
    "y = LpVariable.dicts(\"pair\", [(i,j) for i in employees for j in employees] ,cat='Binary')"
   ]
  },
  {
   "cell_type": "code",
   "execution_count": 5,
   "metadata": {
    "ExecuteTime": {
     "end_time": "2020-03-08T14:58:40.226975Z",
     "start_time": "2020-03-08T14:58:40.171833Z"
    },
    "run_control": {
     "marked": true
    },
    "scrolled": false
   },
   "outputs": [
    {
     "data": {
      "text/html": [
       "<div>\n",
       "<style scoped>\n",
       "    .dataframe tbody tr th:only-of-type {\n",
       "        vertical-align: middle;\n",
       "    }\n",
       "\n",
       "    .dataframe tbody tr th {\n",
       "        vertical-align: top;\n",
       "    }\n",
       "\n",
       "    .dataframe thead th {\n",
       "        text-align: right;\n",
       "    }\n",
       "</style>\n",
       "<table border=\"1\" class=\"dataframe\">\n",
       "  <thead>\n",
       "    <tr style=\"text-align: right;\">\n",
       "      <th></th>\n",
       "      <th>Ben</th>\n",
       "      <th>Kate</th>\n",
       "      <th>Thinh</th>\n",
       "      <th>Jorge</th>\n",
       "      <th>Alfredo</th>\n",
       "      <th>Francisco</th>\n",
       "      <th>Olivia</th>\n",
       "      <th>Chris</th>\n",
       "    </tr>\n",
       "  </thead>\n",
       "  <tbody>\n",
       "    <tr>\n",
       "      <th>Ben</th>\n",
       "      <td>0</td>\n",
       "      <td>0</td>\n",
       "      <td>3</td>\n",
       "      <td>3</td>\n",
       "      <td>7</td>\n",
       "      <td>9</td>\n",
       "      <td>3</td>\n",
       "      <td>5</td>\n",
       "    </tr>\n",
       "    <tr>\n",
       "      <th>Kate</th>\n",
       "      <td>2</td>\n",
       "      <td>0</td>\n",
       "      <td>7</td>\n",
       "      <td>6</td>\n",
       "      <td>8</td>\n",
       "      <td>8</td>\n",
       "      <td>1</td>\n",
       "      <td>6</td>\n",
       "    </tr>\n",
       "    <tr>\n",
       "      <th>Thinh</th>\n",
       "      <td>7</td>\n",
       "      <td>7</td>\n",
       "      <td>0</td>\n",
       "      <td>1</td>\n",
       "      <td>5</td>\n",
       "      <td>9</td>\n",
       "      <td>8</td>\n",
       "      <td>9</td>\n",
       "    </tr>\n",
       "    <tr>\n",
       "      <th>Jorge</th>\n",
       "      <td>4</td>\n",
       "      <td>3</td>\n",
       "      <td>0</td>\n",
       "      <td>0</td>\n",
       "      <td>5</td>\n",
       "      <td>0</td>\n",
       "      <td>2</td>\n",
       "      <td>3</td>\n",
       "    </tr>\n",
       "    <tr>\n",
       "      <th>Alfredo</th>\n",
       "      <td>8</td>\n",
       "      <td>1</td>\n",
       "      <td>3</td>\n",
       "      <td>3</td>\n",
       "      <td>0</td>\n",
       "      <td>7</td>\n",
       "      <td>0</td>\n",
       "      <td>1</td>\n",
       "    </tr>\n",
       "    <tr>\n",
       "      <th>Francisco</th>\n",
       "      <td>9</td>\n",
       "      <td>9</td>\n",
       "      <td>0</td>\n",
       "      <td>4</td>\n",
       "      <td>7</td>\n",
       "      <td>0</td>\n",
       "      <td>2</td>\n",
       "      <td>7</td>\n",
       "    </tr>\n",
       "    <tr>\n",
       "      <th>Olivia</th>\n",
       "      <td>2</td>\n",
       "      <td>0</td>\n",
       "      <td>0</td>\n",
       "      <td>4</td>\n",
       "      <td>5</td>\n",
       "      <td>5</td>\n",
       "      <td>0</td>\n",
       "      <td>8</td>\n",
       "    </tr>\n",
       "    <tr>\n",
       "      <th>Chris</th>\n",
       "      <td>4</td>\n",
       "      <td>1</td>\n",
       "      <td>4</td>\n",
       "      <td>9</td>\n",
       "      <td>8</td>\n",
       "      <td>1</td>\n",
       "      <td>1</td>\n",
       "      <td>0</td>\n",
       "    </tr>\n",
       "  </tbody>\n",
       "</table>\n",
       "</div>"
      ],
      "text/plain": [
       "           Ben  Kate  Thinh  Jorge  Alfredo  Francisco  Olivia  Chris\n",
       "Ben          0     0      3      3        7          9       3      5\n",
       "Kate         2     0      7      6        8          8       1      6\n",
       "Thinh        7     7      0      1        5          9       8      9\n",
       "Jorge        4     3      0      0        5          0       2      3\n",
       "Alfredo      8     1      3      3        0          7       0      1\n",
       "Francisco    9     9      0      4        7          0       2      7\n",
       "Olivia       2     0      0      4        5          5       0      8\n",
       "Chris        4     1      4      9        8          1       1      0"
      ]
     },
     "execution_count": 5,
     "metadata": {},
     "output_type": "execute_result"
    }
   ],
   "source": [
    "names = ['Ben','Kate','Thinh','Jorge','Alfredo','Francisco','Olivia','Chris']\n",
    "match_info = pd.DataFrame(c, index=names, columns=names)\n",
    "\n",
    "match_info"
   ]
  },
  {
   "cell_type": "markdown",
   "metadata": {},
   "source": [
    "# Objective"
   ]
  },
  {
   "cell_type": "markdown",
   "metadata": {},
   "source": [
    "Maximize the preference scores between employees $i$ and $j$\n",
    "\n",
    "Maximize $\\sum_{j=0}^n\\sum_{i=0}^n (c_{i,j}+c_{j,i}) \\cdot y_{i,j}$"
   ]
  },
  {
   "cell_type": "code",
   "execution_count": 7,
   "metadata": {
    "ExecuteTime": {
     "end_time": "2020-03-08T14:58:40.527326Z",
     "start_time": "2020-03-08T14:58:40.504322Z"
    }
   },
   "outputs": [],
   "source": [
    "prob += lpSum([(c[i][j] + c[j][i]) * y[(i,j)] for i in employees for j in employees])"
   ]
  },
  {
   "cell_type": "markdown",
   "metadata": {},
   "source": [
    "# Contraints"
   ]
  },
  {
   "cell_type": "markdown",
   "metadata": {},
   "source": [
    "Employee $i$ is paired with no more than one employee $j$\n",
    "\n",
    "\\begin{equation}\n",
    "\\sum_{i} y_{i,j}\\leq 1 \\; \\forall j \\;\\in employees\n",
    "\\end{equation}\n",
    "\n",
    "Employee $j$ is paired with no more than one employee $i$\n",
    "\n",
    "\\begin{equation}\n",
    "\\sum_{i} y_{j,i} \\leq 1 \\; \\forall j \\;\\in employees\n",
    "\\end{equation}\n",
    "\n",
    "Pairing between employee $i$ and $j$ also means to pair between employee $j$ and $i$\n",
    "\n",
    "\\begin{equation}\n",
    "y_{i,j} + y_{j,i} \\leq 1 \\; \\forall i,j \\;\\in employees\n",
    "\\end{equation}\n",
    "\n",
    "There is a total of 4 pairs\n",
    "\n",
    "\\begin{equation}\n",
    "\\sum_j\\sum_{i} y_{i,j} = 4\n",
    "\\end{equation}"
   ]
  },
  {
   "cell_type": "code",
   "execution_count": 8,
   "metadata": {
    "ExecuteTime": {
     "end_time": "2020-03-08T14:58:40.575481Z",
     "start_time": "2020-03-08T14:58:40.552755Z"
    }
   },
   "outputs": [],
   "source": [
    "for i in employees:\n",
    "    prob += lpSum(y[(i,j)] for j in employees) <= 1\n",
    "    prob += lpSum(y[(j,i)] for j in employees) <= 1\n",
    "    prob += lpSum(y[(i,j)] for j in employees)+ lpSum(y[(j,i)] for j in employees) <= 1\n",
    "\n",
    "\n",
    "prob += lpSum(y[(i,j)] for i in employees for j in employees) == 4"
   ]
  },
  {
   "cell_type": "markdown",
   "metadata": {},
   "source": [
    "# Solve the Problem"
   ]
  },
  {
   "cell_type": "code",
   "execution_count": 9,
   "metadata": {
    "ExecuteTime": {
     "end_time": "2020-03-08T14:58:40.728970Z",
     "start_time": "2020-03-08T14:58:40.584907Z"
    }
   },
   "outputs": [
    {
     "data": {
      "text/plain": [
       "1"
      ]
     },
     "execution_count": 9,
     "metadata": {},
     "output_type": "execute_result"
    }
   ],
   "source": [
    "prob.solve()"
   ]
  },
  {
   "cell_type": "code",
   "execution_count": 14,
   "metadata": {
    "ExecuteTime": {
     "end_time": "2020-03-08T14:59:32.684778Z",
     "start_time": "2020-03-08T14:59:32.666928Z"
    }
   },
   "outputs": [
    {
     "name": "stdout",
     "output_type": "stream",
     "text": [
      "Finish matching!\n",
      "\n",
      "Ben and Alfredo with preference score 7 and 8. Total score: 15\n",
      "Kate and Francisco with preference score 8 and 9. Total score: 17\n",
      "Jorge and Chris with preference score 3 and 9. Total score: 12\n",
      "Olivia and Thinh with preference score 0 and 8. Total score: 8\n"
     ]
    }
   ],
   "source": [
    "print(\"Finish matching!\\n\")\n",
    "for i in employees:\n",
    "    for j in employees:\n",
    "        if y[(i,j)].varValue == 1:\n",
    "            print('{} and {} with preference score {} and {}. Total score: {}'.format(names[i],names[j],c[i,j], c[j,i], c[i,j] +c[j,i]))"
   ]
  },
  {
   "cell_type": "code",
   "execution_count": 12,
   "metadata": {
    "ExecuteTime": {
     "end_time": "2020-03-08T14:58:40.916620Z",
     "start_time": "2020-03-08T14:58:40.902445Z"
    }
   },
   "outputs": [
    {
     "data": {
      "text/plain": [
       "26.0"
      ]
     },
     "execution_count": 12,
     "metadata": {},
     "output_type": "execute_result"
    }
   ],
   "source": [
    "pulp.value(prob.objective)"
   ]
  },
  {
   "cell_type": "code",
   "execution_count": 13,
   "metadata": {
    "ExecuteTime": {
     "end_time": "2020-03-08T14:58:40.954266Z",
     "start_time": "2020-03-08T14:58:40.934413Z"
    }
   },
   "outputs": [
    {
     "data": {
      "text/plain": [
       "'Optimal'"
      ]
     },
     "execution_count": 13,
     "metadata": {},
     "output_type": "execute_result"
    }
   ],
   "source": [
    "pulp.LpStatus[prob.status]"
   ]
  },
  {
   "cell_type": "code",
   "execution_count": null,
   "metadata": {},
   "outputs": [],
   "source": []
  },
  {
   "cell_type": "code",
   "execution_count": null,
   "metadata": {},
   "outputs": [],
   "source": []
  }
 ],
 "metadata": {
  "gist": {
   "data": {
    "description": "Matching problem-Copy1.ipynb",
    "public": false
   },
   "id": ""
  },
  "hide_input": false,
  "kernelspec": {
   "display_name": "Python 3",
   "language": "python",
   "name": "python3"
  },
  "language_info": {
   "codemirror_mode": {
    "name": "ipython",
    "version": 3
   },
   "file_extension": ".py",
   "mimetype": "text/x-python",
   "name": "python",
   "nbconvert_exporter": "python",
   "pygments_lexer": "ipython3",
   "version": "3.7.6"
  },
  "toc": {
   "base_numbering": 1,
   "nav_menu": {},
   "number_sections": true,
   "sideBar": true,
   "skip_h1_title": false,
   "title_cell": "Table of Contents",
   "title_sidebar": "Contents",
   "toc_cell": true,
   "toc_position": {},
   "toc_section_display": true,
   "toc_window_display": false
  },
  "varInspector": {
   "cols": {
    "lenName": 16,
    "lenType": 16,
    "lenVar": 40
   },
   "kernels_config": {
    "python": {
     "delete_cmd_postfix": "",
     "delete_cmd_prefix": "del ",
     "library": "var_list.py",
     "varRefreshCmd": "print(var_dic_list())"
    },
    "r": {
     "delete_cmd_postfix": ") ",
     "delete_cmd_prefix": "rm(",
     "library": "var_list.r",
     "varRefreshCmd": "cat(var_dic_list()) "
    }
   },
   "types_to_exclude": [
    "module",
    "function",
    "builtin_function_or_method",
    "instance",
    "_Feature"
   ],
   "window_display": false
  }
 },
 "nbformat": 4,
 "nbformat_minor": 4
}
