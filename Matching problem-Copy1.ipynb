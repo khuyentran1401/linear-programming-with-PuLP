{
 "cells": [
  {
   "cell_type": "markdown",
   "metadata": {
    "toc": true
   },
   "source": [
    "<h1>Table of Contents<span class=\"tocSkip\"></span></h1>\n",
    "<div class=\"toc\"><ul class=\"toc-item\"></ul></div>"
   ]
  },
  {
   "cell_type": "markdown",
   "metadata": {},
   "source": [
    "(Schräge, 2003) Suppose you manage your company's strategic planning\n",
    "department. There are eight analysts in the department. Your department is\n",
    "about to move into a new suite of offices. There are four offices in the new suite and you need to match up your analysts into four pairs, so that each pair can be\n",
    "assigned to one of the new offices. \n",
    "\n",
    "Based on past observations, you know some\n",
    "of the analysts work better together than they do with others. In the interest of\n",
    "departmental peace, you would like to come up with a pairing of analysts\n",
    "that results in minimal potential conflicts. To this goal, you have come up with\n",
    "a rating system for pairing your analysts. The scale runs from 1 to 10, with a 1\n",
    "rating for a pair meaning the two get along fantastically, whereas all sharp\n",
    "objects should be removed from the pair's office in anticipation of mayhem\n",
    "for a rating of 10. The ratings appear in Table.\n",
    "\n",
    "\n",
    "Since the pairing of analyst / with analyst J is indistinguishable from the\n",
    "pairing of J with /, we have only included the above diagonal elements in the\n",
    "table. Our problem is to find the pairings of analysts that minimizes the sum\n",
    "of the incompatibility ratings of the paired analysts."
   ]
  },
  {
   "cell_type": "code",
   "execution_count": 1,
   "metadata": {
    "ExecuteTime": {
     "end_time": "2020-03-08T14:58:38.199440Z",
     "start_time": "2020-03-08T14:58:35.108590Z"
    }
   },
   "outputs": [
    {
     "name": "stdout",
     "output_type": "stream",
     "text": [
      "Requirement already satisfied: pulp in /Library/Frameworks/Python.framework/Versions/3.7/lib/python3.7/site-packages (2.0)\n",
      "Requirement already satisfied: pyparsing>=2.0.1 in /Library/Frameworks/Python.framework/Versions/3.7/lib/python3.7/site-packages/pyparsing-2.4.6-py3.7.egg (from pulp) (2.4.6)\n"
     ]
    },
    {
     "name": "stderr",
     "output_type": "stream",
     "text": [
      "/Library/Frameworks/Python.framework/Versions/3.7/lib/python3.7/site-packages/pulp/pulp.py:1137: UserWarning: Spaces are not permitted in the name. Converted to '_'\n",
      "  warnings.warn(\"Spaces are not permitted in the name. Converted to '_'\")\n"
     ]
    }
   ],
   "source": [
    "!pip install pulp\n",
    "from pulp import *\n",
    "# Create the 'prob' variable to contain the problem data\n",
    "prob = LpProblem(\"Matching Employees\", LpMaximize)"
   ]
  },
  {
   "cell_type": "code",
   "execution_count": 2,
   "metadata": {
    "ExecuteTime": {
     "end_time": "2020-03-08T14:58:38.208973Z",
     "start_time": "2020-03-08T14:58:38.203594Z"
    }
   },
   "outputs": [],
   "source": [
    "employees = range(8)\n",
    "group = 4"
   ]
  },
  {
   "cell_type": "markdown",
   "metadata": {},
   "source": [
    "\\begin{equation} \\label{y_var_def}\n",
    "    y_{i,j} = \\left \\{ \\begin{array}{ll}\n",
    "      1 & \\mbox{if employee $i$ is paired with employee $j$}\\\\\n",
    "      0 & \\mbox{otherwise.} \\end{array} \\right.\n",
    "  \\end{equation}"
   ]
  },
  {
   "cell_type": "code",
   "execution_count": 3,
   "metadata": {
    "ExecuteTime": {
     "end_time": "2020-03-08T14:58:38.259886Z",
     "start_time": "2020-03-08T14:58:38.222421Z"
    },
    "run_control": {
     "marked": true
    }
   },
   "outputs": [],
   "source": [
    "#Define the variables\n",
    "y = LpVariable.dicts(\"pair\", [(i,j) for i in employees for j in employees] ,cat='Binary')"
   ]
  },
  {
   "cell_type": "code",
   "execution_count": 4,
   "metadata": {
    "ExecuteTime": {
     "end_time": "2020-03-08T14:58:40.082875Z",
     "start_time": "2020-03-08T14:58:38.263867Z"
    }
   },
   "outputs": [
    {
     "data": {
      "text/plain": [
       "array([[0, 0, 3, 3, 7, 9, 3, 5],\n",
       "       [2, 0, 7, 6, 8, 8, 1, 6],\n",
       "       [7, 7, 0, 1, 5, 9, 8, 9],\n",
       "       [4, 3, 0, 0, 5, 0, 2, 3],\n",
       "       [8, 1, 3, 3, 0, 7, 0, 1],\n",
       "       [9, 9, 0, 4, 7, 0, 2, 7],\n",
       "       [2, 0, 0, 4, 5, 5, 0, 8],\n",
       "       [4, 1, 4, 9, 8, 1, 1, 0]])"
      ]
     },
     "execution_count": 4,
     "metadata": {},
     "output_type": "execute_result"
    }
   ],
   "source": [
    "import numpy as np \n",
    "import pandas as pd\n",
    "np.random.seed(0)\n",
    "\n",
    "c = np.random.randint(0,10, (8,8))\n",
    "np.fill_diagonal(c,0)\n",
    "\n",
    "c"
   ]
  },
  {
   "cell_type": "code",
   "execution_count": 5,
   "metadata": {
    "ExecuteTime": {
     "end_time": "2020-03-08T14:58:40.226975Z",
     "start_time": "2020-03-08T14:58:40.171833Z"
    },
    "run_control": {
     "marked": true
    },
    "scrolled": true
   },
   "outputs": [
    {
     "data": {
      "text/html": [
       "<div>\n",
       "<style scoped>\n",
       "    .dataframe tbody tr th:only-of-type {\n",
       "        vertical-align: middle;\n",
       "    }\n",
       "\n",
       "    .dataframe tbody tr th {\n",
       "        vertical-align: top;\n",
       "    }\n",
       "\n",
       "    .dataframe thead th {\n",
       "        text-align: right;\n",
       "    }\n",
       "</style>\n",
       "<table border=\"1\" class=\"dataframe\">\n",
       "  <thead>\n",
       "    <tr style=\"text-align: right;\">\n",
       "      <th></th>\n",
       "      <th>Ben</th>\n",
       "      <th>Kate</th>\n",
       "      <th>Thinh</th>\n",
       "      <th>Jorge</th>\n",
       "      <th>Alfredo</th>\n",
       "      <th>Francisco</th>\n",
       "      <th>Olivia</th>\n",
       "      <th>Chris</th>\n",
       "    </tr>\n",
       "  </thead>\n",
       "  <tbody>\n",
       "    <tr>\n",
       "      <th>Ben</th>\n",
       "      <td>0</td>\n",
       "      <td>0</td>\n",
       "      <td>3</td>\n",
       "      <td>3</td>\n",
       "      <td>7</td>\n",
       "      <td>9</td>\n",
       "      <td>3</td>\n",
       "      <td>5</td>\n",
       "    </tr>\n",
       "    <tr>\n",
       "      <th>Kate</th>\n",
       "      <td>2</td>\n",
       "      <td>0</td>\n",
       "      <td>7</td>\n",
       "      <td>6</td>\n",
       "      <td>8</td>\n",
       "      <td>8</td>\n",
       "      <td>1</td>\n",
       "      <td>6</td>\n",
       "    </tr>\n",
       "    <tr>\n",
       "      <th>Thinh</th>\n",
       "      <td>7</td>\n",
       "      <td>7</td>\n",
       "      <td>0</td>\n",
       "      <td>1</td>\n",
       "      <td>5</td>\n",
       "      <td>9</td>\n",
       "      <td>8</td>\n",
       "      <td>9</td>\n",
       "    </tr>\n",
       "    <tr>\n",
       "      <th>Jorge</th>\n",
       "      <td>4</td>\n",
       "      <td>3</td>\n",
       "      <td>0</td>\n",
       "      <td>0</td>\n",
       "      <td>5</td>\n",
       "      <td>0</td>\n",
       "      <td>2</td>\n",
       "      <td>3</td>\n",
       "    </tr>\n",
       "    <tr>\n",
       "      <th>Alfredo</th>\n",
       "      <td>8</td>\n",
       "      <td>1</td>\n",
       "      <td>3</td>\n",
       "      <td>3</td>\n",
       "      <td>0</td>\n",
       "      <td>7</td>\n",
       "      <td>0</td>\n",
       "      <td>1</td>\n",
       "    </tr>\n",
       "    <tr>\n",
       "      <th>Francisco</th>\n",
       "      <td>9</td>\n",
       "      <td>9</td>\n",
       "      <td>0</td>\n",
       "      <td>4</td>\n",
       "      <td>7</td>\n",
       "      <td>0</td>\n",
       "      <td>2</td>\n",
       "      <td>7</td>\n",
       "    </tr>\n",
       "    <tr>\n",
       "      <th>Olivia</th>\n",
       "      <td>2</td>\n",
       "      <td>0</td>\n",
       "      <td>0</td>\n",
       "      <td>4</td>\n",
       "      <td>5</td>\n",
       "      <td>5</td>\n",
       "      <td>0</td>\n",
       "      <td>8</td>\n",
       "    </tr>\n",
       "    <tr>\n",
       "      <th>Chris</th>\n",
       "      <td>4</td>\n",
       "      <td>1</td>\n",
       "      <td>4</td>\n",
       "      <td>9</td>\n",
       "      <td>8</td>\n",
       "      <td>1</td>\n",
       "      <td>1</td>\n",
       "      <td>0</td>\n",
       "    </tr>\n",
       "  </tbody>\n",
       "</table>\n",
       "</div>"
      ],
      "text/plain": [
       "           Ben  Kate  Thinh  Jorge  Alfredo  Francisco  Olivia  Chris\n",
       "Ben          0     0      3      3        7          9       3      5\n",
       "Kate         2     0      7      6        8          8       1      6\n",
       "Thinh        7     7      0      1        5          9       8      9\n",
       "Jorge        4     3      0      0        5          0       2      3\n",
       "Alfredo      8     1      3      3        0          7       0      1\n",
       "Francisco    9     9      0      4        7          0       2      7\n",
       "Olivia       2     0      0      4        5          5       0      8\n",
       "Chris        4     1      4      9        8          1       1      0"
      ]
     },
     "execution_count": 5,
     "metadata": {},
     "output_type": "execute_result"
    }
   ],
   "source": [
    "names = ['Ben','Kate','Thinh','Jorge','Alfredo','Francisco','Olivia','Chris']\n",
    "match_info = pd.DataFrame(c, index=names, columns=names)\n",
    "\n",
    "match_info"
   ]
  },
  {
   "cell_type": "code",
   "execution_count": 6,
   "metadata": {
    "ExecuteTime": {
     "end_time": "2020-03-08T14:58:40.455458Z",
     "start_time": "2020-03-08T14:58:40.253602Z"
    }
   },
   "outputs": [
    {
     "data": {
      "text/plain": [
       "0"
      ]
     },
     "execution_count": 6,
     "metadata": {},
     "output_type": "execute_result"
    }
   ],
   "source": [
    "c[0,1]"
   ]
  },
  {
   "cell_type": "markdown",
   "metadata": {},
   "source": [
    "Maximize $\\sum_{j=0}^n\\sum_{i=0}^n (c_{i,j}+c_{j,i}) \\cdot y_{i,j}$"
   ]
  },
  {
   "cell_type": "code",
   "execution_count": 7,
   "metadata": {
    "ExecuteTime": {
     "end_time": "2020-03-08T14:58:40.527326Z",
     "start_time": "2020-03-08T14:58:40.504322Z"
    }
   },
   "outputs": [],
   "source": [
    "prob += lpSum([(c[i][j] + c[j][i]) * y[(i,j)] for i in employees for j in employees])"
   ]
  },
  {
   "cell_type": "markdown",
   "metadata": {},
   "source": [
    "Employee $i$ is paired with no more than one employee $j$\n",
    "\n",
    "\\begin{equation}\n",
    "\\sum_{i} y_{i,j}\\leq 1 \\; \\forall j \\;\\in employees\n",
    "\\end{equation}\n",
    "\n",
    "Employee $j$ is paired with no more than one employee $i$\n",
    "\n",
    "\\begin{equation}\n",
    "\\sum_{i} y_{j,i} \\leq 1 \\; \\forall j \\;\\in employees\n",
    "\\end{equation}\n",
    "\n",
    "Pairing between employee $i$ and $j$ also means to pair between employee $j$ and $i$\n",
    "\n",
    "\\begin{equation}\n",
    "y_{i,j} + y_{j,i} \\leq 1 \\; \\forall i,j \\;\\in employees\n",
    "\\end{equation}\n",
    "\n",
    "There is a total of 4 pairs\n",
    "\n",
    "\\begin{equation}\n",
    "\\sum_j\\sum_{i} y_{i,j} = 4\n",
    "\\end{equation}"
   ]
  },
  {
   "cell_type": "code",
   "execution_count": 8,
   "metadata": {
    "ExecuteTime": {
     "end_time": "2020-03-08T14:58:40.575481Z",
     "start_time": "2020-03-08T14:58:40.552755Z"
    }
   },
   "outputs": [],
   "source": [
    "for i in employees:\n",
    "    prob += lpSum(y[(i,j)] for j in employees) <= 1\n",
    "    prob += lpSum(y[(j,i)] for j in employees) <= 1\n",
    "    prob += lpSum(y[(i,j)] for j in employees)+ lpSum(y[(j,i)] for j in employees) <= 1\n",
    "\n",
    "\n",
    "prob += lpSum(y[(i,j)] for i in employees for j in employees) == 4"
   ]
  },
  {
   "cell_type": "code",
   "execution_count": 9,
   "metadata": {
    "ExecuteTime": {
     "end_time": "2020-03-08T14:58:40.728970Z",
     "start_time": "2020-03-08T14:58:40.584907Z"
    }
   },
   "outputs": [
    {
     "data": {
      "text/plain": [
       "1"
      ]
     },
     "execution_count": 9,
     "metadata": {},
     "output_type": "execute_result"
    }
   ],
   "source": [
    "prob.solve()"
   ]
  },
  {
   "cell_type": "code",
   "execution_count": 14,
   "metadata": {
    "ExecuteTime": {
     "end_time": "2020-03-08T14:59:32.684778Z",
     "start_time": "2020-03-08T14:59:32.666928Z"
    }
   },
   "outputs": [
    {
     "name": "stdout",
     "output_type": "stream",
     "text": [
      "Finish matching!\n",
      "\n",
      "Ben and Alfredo with preference score 7 and 8. Total score: 15\n",
      "Kate and Francisco with preference score 8 and 9. Total score: 17\n",
      "Jorge and Chris with preference score 3 and 9. Total score: 12\n",
      "Olivia and Thinh with preference score 0 and 8. Total score: 8\n"
     ]
    }
   ],
   "source": [
    "print(\"Finish matching!\\n\")\n",
    "for i in employees:\n",
    "    for j in employees:\n",
    "        if y[(i,j)].varValue == 1:\n",
    "            print('{} and {} with preference score {} and {}. Total score: {}'.format(names[i],names[j],c[i,j], c[j,i], c[i,j] +c[j,i]))"
   ]
  },
  {
   "cell_type": "code",
   "execution_count": 11,
   "metadata": {
    "ExecuteTime": {
     "end_time": "2020-03-08T14:58:40.892570Z",
     "start_time": "2020-03-08T14:58:40.842590Z"
    }
   },
   "outputs": [
    {
     "data": {
      "text/plain": [
       "[pair_(0,_0),\n",
       " pair_(0,_1),\n",
       " pair_(0,_2),\n",
       " pair_(0,_3),\n",
       " pair_(0,_4),\n",
       " pair_(0,_5),\n",
       " pair_(0,_6),\n",
       " pair_(0,_7),\n",
       " pair_(1,_0),\n",
       " pair_(1,_1),\n",
       " pair_(1,_2),\n",
       " pair_(1,_3),\n",
       " pair_(1,_4),\n",
       " pair_(1,_5),\n",
       " pair_(1,_6),\n",
       " pair_(1,_7),\n",
       " pair_(2,_0),\n",
       " pair_(2,_1),\n",
       " pair_(2,_2),\n",
       " pair_(2,_3),\n",
       " pair_(2,_4),\n",
       " pair_(2,_5),\n",
       " pair_(2,_6),\n",
       " pair_(2,_7),\n",
       " pair_(3,_0),\n",
       " pair_(3,_1),\n",
       " pair_(3,_2),\n",
       " pair_(3,_3),\n",
       " pair_(3,_4),\n",
       " pair_(3,_5),\n",
       " pair_(3,_6),\n",
       " pair_(3,_7),\n",
       " pair_(4,_0),\n",
       " pair_(4,_1),\n",
       " pair_(4,_2),\n",
       " pair_(4,_3),\n",
       " pair_(4,_4),\n",
       " pair_(4,_5),\n",
       " pair_(4,_6),\n",
       " pair_(4,_7),\n",
       " pair_(5,_0),\n",
       " pair_(5,_1),\n",
       " pair_(5,_2),\n",
       " pair_(5,_3),\n",
       " pair_(5,_4),\n",
       " pair_(5,_5),\n",
       " pair_(5,_6),\n",
       " pair_(5,_7),\n",
       " pair_(6,_0),\n",
       " pair_(6,_1),\n",
       " pair_(6,_2),\n",
       " pair_(6,_3),\n",
       " pair_(6,_4),\n",
       " pair_(6,_5),\n",
       " pair_(6,_6),\n",
       " pair_(6,_7),\n",
       " pair_(7,_0),\n",
       " pair_(7,_1),\n",
       " pair_(7,_2),\n",
       " pair_(7,_3),\n",
       " pair_(7,_4),\n",
       " pair_(7,_5),\n",
       " pair_(7,_6),\n",
       " pair_(7,_7)]"
      ]
     },
     "execution_count": 11,
     "metadata": {},
     "output_type": "execute_result"
    }
   ],
   "source": [
    "prob.writeLP('employers.txt')"
   ]
  },
  {
   "cell_type": "code",
   "execution_count": 12,
   "metadata": {
    "ExecuteTime": {
     "end_time": "2020-03-08T14:58:40.916620Z",
     "start_time": "2020-03-08T14:58:40.902445Z"
    }
   },
   "outputs": [
    {
     "data": {
      "text/plain": [
       "26.0"
      ]
     },
     "execution_count": 12,
     "metadata": {},
     "output_type": "execute_result"
    }
   ],
   "source": [
    "pulp.value(prob.objective)"
   ]
  },
  {
   "cell_type": "code",
   "execution_count": 13,
   "metadata": {
    "ExecuteTime": {
     "end_time": "2020-03-08T14:58:40.954266Z",
     "start_time": "2020-03-08T14:58:40.934413Z"
    }
   },
   "outputs": [
    {
     "data": {
      "text/plain": [
       "'Optimal'"
      ]
     },
     "execution_count": 13,
     "metadata": {},
     "output_type": "execute_result"
    }
   ],
   "source": [
    "pulp.LpStatus[prob.status]"
   ]
  },
  {
   "cell_type": "code",
   "execution_count": null,
   "metadata": {},
   "outputs": [],
   "source": []
  },
  {
   "cell_type": "code",
   "execution_count": null,
   "metadata": {},
   "outputs": [],
   "source": []
  }
 ],
 "metadata": {
  "hide_input": false,
  "kernelspec": {
   "display_name": "Python 3",
   "language": "python",
   "name": "python3"
  },
  "language_info": {
   "codemirror_mode": {
    "name": "ipython",
    "version": 3
   },
   "file_extension": ".py",
   "mimetype": "text/x-python",
   "name": "python",
   "nbconvert_exporter": "python",
   "pygments_lexer": "ipython3",
   "version": "3.7.6"
  },
  "toc": {
   "base_numbering": 1,
   "nav_menu": {},
   "number_sections": true,
   "sideBar": true,
   "skip_h1_title": false,
   "title_cell": "Table of Contents",
   "title_sidebar": "Contents",
   "toc_cell": true,
   "toc_position": {},
   "toc_section_display": true,
   "toc_window_display": false
  },
  "varInspector": {
   "cols": {
    "lenName": 16,
    "lenType": 16,
    "lenVar": 40
   },
   "kernels_config": {
    "python": {
     "delete_cmd_postfix": "",
     "delete_cmd_prefix": "del ",
     "library": "var_list.py",
     "varRefreshCmd": "print(var_dic_list())"
    },
    "r": {
     "delete_cmd_postfix": ") ",
     "delete_cmd_prefix": "rm(",
     "library": "var_list.r",
     "varRefreshCmd": "cat(var_dic_list()) "
    }
   },
   "types_to_exclude": [
    "module",
    "function",
    "builtin_function_or_method",
    "instance",
    "_Feature"
   ],
   "window_display": false
  }
 },
 "nbformat": 4,
 "nbformat_minor": 4
}
