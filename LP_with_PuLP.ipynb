{
  "nbformat": 4,
  "nbformat_minor": 0,
  "metadata": {
    "colab": {
      "name": "LP with PuLP.ipynb",
      "provenance": [],
      "collapsed_sections": []
    },
    "kernelspec": {
      "name": "python3",
      "display_name": "Python 3"
    }
  },
  "cells": [
    {
      "cell_type": "code",
      "metadata": {
        "id": "KGV69ZWuIqHW",
        "colab_type": "code",
        "outputId": "df313578-1673-402a-b068-6b99dcfe834b",
        "colab": {
          "base_uri": "https://localhost:8080/",
          "height": 70
        }
      },
      "source": [
        "import sys\n",
        "!{sys.executable} -m pip install pulp"
      ],
      "execution_count": 19,
      "outputs": [
        {
          "output_type": "stream",
          "text": [
            "Requirement already satisfied: pulp in /usr/local/lib/python3.6/dist-packages (2.0)\n",
            "Requirement already satisfied: pyparsing>=2.0.1 in /usr/local/lib/python3.6/dist-packages (from pulp) (2.4.5)\n"
          ],
          "name": "stdout"
        }
      ]
    },
    {
      "cell_type": "code",
      "metadata": {
        "id": "Pxz9CpCAau2_",
        "colab_type": "code",
        "outputId": "e8fdcce3-7b5b-4367-ccc3-73e25148faca",
        "colab": {
          "base_uri": "https://localhost:8080/",
          "height": 34
        }
      },
      "source": [
        "sys.executable"
      ],
      "execution_count": 20,
      "outputs": [
        {
          "output_type": "execute_result",
          "data": {
            "text/plain": [
              "'/usr/bin/python3'"
            ]
          },
          "metadata": {
            "tags": []
          },
          "execution_count": 20
        }
      ]
    },
    {
      "cell_type": "code",
      "metadata": {
        "id": "EILG2MueaKUm",
        "colab_type": "code",
        "colab": {}
      },
      "source": [
        "sys.path.append('/root/.local/lib/python3.6/site-packages')"
      ],
      "execution_count": 0,
      "outputs": []
    },
    {
      "cell_type": "code",
      "metadata": {
        "id": "hP2RRqUKaRax",
        "colab_type": "code",
        "outputId": "f6cd5595-33d3-4a87-9dd6-d3a3a85571d9",
        "colab": {
          "base_uri": "https://localhost:8080/",
          "height": 87
        }
      },
      "source": [
        "# import PuLP\n",
        "from pulp import *\n",
        "# Create the 'prob' variable to contain the problem data\n",
        "prob = LpProblem(\"Charging a Blast Furnace\", LpMaximize)\n",
        "\n",
        "# Create problem variables\n",
        "x1=LpVariable(\"Thousand of pounds of pig iron A\",0,None,LpContinuous)\n",
        "x2=LpVariable(\"Thousand of pounds of pig iron B\",0, None, LpContinuous)\n",
        "x3=LpVariable(\"Thousand of pounds of pig iron C\",0, None, LpContinuous)\n",
        "x4=x2=LpVariable(\"Pounds of pure manganese\",0, None, LpContinuous)\n",
        "\n",
        "\n",
        "# The objective function is added to 'prob' first\n",
        "prob += 450 - 26*x1 - 30*x2 -20*x3 - 8*x4, \"Total profit; to be maximized\"\n",
        "# The two constraints are entered\n",
        "prob += 1000*x1 + 1000*x2 + 1000*x3 + x4 == 1000, \"Total amount produced is equal to 1000 pounds\"\n",
        "prob += 4.5*x1 + 5.0*x2 + 4.0*x3 + x4 >= 4.5, \"The castings should contain at lease 0.45 percent manganese of 1000 pounds\"\n",
        "prob += 40*x1 + 10*x2 + 6*x3 >= 32.5\n",
        "prob += 40*x1 + 10*x2 + 6*x3 <= 55.0\n",
        "\n",
        "# The problem data is written to an .lp file\n",
        "prob.writeLP(\"Charging a Blast Furnace.lp\")\n",
        "\n",
        "# The problem is solved using PuLP's choice of Solver\n",
        "prob.solve()"
      ],
      "execution_count": 26,
      "outputs": [
        {
          "output_type": "stream",
          "text": [
            "/usr/local/lib/python3.6/dist-packages/pulp/pulp.py:1137: UserWarning: Spaces are not permitted in the name. Converted to '_'\n",
            "  warnings.warn(\"Spaces are not permitted in the name. Converted to '_'\")\n"
          ],
          "name": "stderr"
        },
        {
          "output_type": "execute_result",
          "data": {
            "text/plain": [
              "1"
            ]
          },
          "metadata": {
            "tags": []
          },
          "execution_count": 26
        }
      ]
    },
    {
      "cell_type": "code",
      "metadata": {
        "id": "OcHL8X55c8Y-",
        "colab_type": "code",
        "outputId": "9732451f-cfdb-4f76-ecc9-05563f1def3f",
        "colab": {
          "base_uri": "https://localhost:8080/",
          "height": 34
        }
      },
      "source": [
        "print(\"Status:\", LpStatus[prob.status])"
      ],
      "execution_count": 23,
      "outputs": [
        {
          "output_type": "stream",
          "text": [
            "Status: Not Solved\n"
          ],
          "name": "stdout"
        }
      ]
    },
    {
      "cell_type": "code",
      "metadata": {
        "id": "ZRXw8FmidA9B",
        "colab_type": "code",
        "outputId": "df6b3e30-ce09-4b7e-8b35-0890be2a19c2",
        "colab": {
          "base_uri": "https://localhost:8080/",
          "height": 67
        }
      },
      "source": [
        "for v in prob.variables():\n",
        "    print(v.name, \"=\", v.varValue)"
      ],
      "execution_count": 24,
      "outputs": [
        {
          "output_type": "stream",
          "text": [
            "Pounds_of_pure_manganese = None\n",
            "Thousand_of_pounds_of_pig_iron_A = None\n",
            "Thousand_of_pounds_of_pig_iron_C = None\n"
          ],
          "name": "stdout"
        }
      ]
    },
    {
      "cell_type": "code",
      "metadata": {
        "id": "mVt76vW4dGUN",
        "colab_type": "code",
        "outputId": "74f8b739-7ed1-4b2f-e282-814b6eea9320",
        "colab": {
          "base_uri": "https://localhost:8080/",
          "height": 34
        }
      },
      "source": [
        "print(\"Total profit that can be maximized = \", pulp.value(prob.objective))"
      ],
      "execution_count": 27,
      "outputs": [
        {
          "output_type": "stream",
          "text": [
            "Total profit that can be maximized =  424.3400035\n"
          ],
          "name": "stdout"
        }
      ]
    }
  ]
}