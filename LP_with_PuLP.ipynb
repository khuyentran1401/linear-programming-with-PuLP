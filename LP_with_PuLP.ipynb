{
  "nbformat": 4,
  "nbformat_minor": 0,
  "metadata": {
    "colab": {
      "name": "LP with PuLP.ipynb",
      "provenance": [],
      "collapsed_sections": [],
      "include_colab_link": true
    },
    "kernelspec": {
      "name": "python3",
      "display_name": "Python 3"
    }
  },
  "cells": [
    {
      "cell_type": "markdown",
      "metadata": {
        "id": "view-in-github",
        "colab_type": "text"
      },
      "source": [
        "<a href=\"https://colab.research.google.com/github/khuyentran1401/linear-programming-with-PuLP/blob/master/LP_with_PuLP.ipynb\" target=\"_parent\"><img src=\"https://colab.research.google.com/assets/colab-badge.svg\" alt=\"Open In Colab\"/></a>"
      ]
    },
    {
      "cell_type": "code",
      "metadata": {
        "id": "KGV69ZWuIqHW",
        "colab_type": "code",
        "outputId": "be6cd18d-90a8-4c14-9586-5c6e36fc5dc6",
        "colab": {
          "base_uri": "https://localhost:8080/",
          "height": 138
        }
      },
      "source": [
        "import sys\n",
        "!{sys.executable} -m pip install pulp"
      ],
      "execution_count": 1,
      "outputs": [
        {
          "output_type": "stream",
          "text": [
            "Collecting pulp\n",
            "\u001b[?25l  Downloading https://files.pythonhosted.org/packages/fb/34/ff5915ff6bae91cfb7c4cc22c3c369a6aea0b2127045dd5f308a91c260ac/PuLP-2.0-py3-none-any.whl (39.2MB)\n",
            "\u001b[K     |████████████████████████████████| 39.2MB 60kB/s \n",
            "\u001b[?25hRequirement already satisfied: pyparsing>=2.0.1 in /usr/local/lib/python3.6/dist-packages (from pulp) (2.4.5)\n",
            "Installing collected packages: pulp\n",
            "Successfully installed pulp-2.0\n"
          ],
          "name": "stdout"
        }
      ]
    },
    {
      "cell_type": "code",
      "metadata": {
        "id": "Pxz9CpCAau2_",
        "colab_type": "code",
        "outputId": "5a3f3784-1a53-4bf3-e388-085a5529810e",
        "colab": {
          "base_uri": "https://localhost:8080/",
          "height": 34
        }
      },
      "source": [
        "sys.executable"
      ],
      "execution_count": 2,
      "outputs": [
        {
          "output_type": "execute_result",
          "data": {
            "text/plain": [
              "'/usr/bin/python3'"
            ]
          },
          "metadata": {
            "tags": []
          },
          "execution_count": 2
        }
      ]
    },
    {
      "cell_type": "code",
      "metadata": {
        "id": "EILG2MueaKUm",
        "colab_type": "code",
        "colab": {}
      },
      "source": [
        "sys.path.append('/root/.local/lib/python3.6/site-packages')"
      ],
      "execution_count": 0,
      "outputs": []
    },
    {
      "cell_type": "code",
      "metadata": {
        "id": "d1s-pNTUFb55",
        "colab_type": "code",
        "colab": {
          "base_uri": "https://localhost:8080/",
          "height": 54
        },
        "outputId": "5d1dd0b9-62a0-4e14-ddee-85be60098d16"
      },
      "source": [
        "\n",
        "!{sys.executable} -m pip install wheel"
      ],
      "execution_count": 32,
      "outputs": [
        {
          "output_type": "stream",
          "text": [
            "Requirement already satisfied: wheel in /usr/local/lib/python3.6/dist-packages (0.33.6)\n"
          ],
          "name": "stdout"
        }
      ]
    },
    {
      "cell_type": "code",
      "metadata": {
        "id": "CU3HSl_rCG6X",
        "colab_type": "code",
        "colab": {
          "base_uri": "https://localhost:8080/",
          "height": 238
        },
        "outputId": "5df7c0e4-8c97-4c94-a484-cc51e808d311"
      },
      "source": [
        "\n",
        "!{sys.executable} -m pip install glpk --no-cache-dir"
      ],
      "execution_count": 34,
      "outputs": [
        {
          "output_type": "stream",
          "text": [
            "Collecting glpk\n",
            "\u001b[?25l  Downloading https://files.pythonhosted.org/packages/74/e0/8676d8d5404a8f9aee298985d21aae67b776476b01583ff1a3e0030e2f51/glpk-0.4.5.tar.gz (152kB)\n",
            "\r\u001b[K     |██▏                             | 10kB 21.1MB/s eta 0:00:01\r\u001b[K     |████▎                           | 20kB 6.2MB/s eta 0:00:01\r\u001b[K     |██████▍                         | 30kB 8.7MB/s eta 0:00:01\r\u001b[K     |████████▋                       | 40kB 5.6MB/s eta 0:00:01\r\u001b[K     |██████████▊                     | 51kB 6.7MB/s eta 0:00:01\r\u001b[K     |████████████▉                   | 61kB 7.9MB/s eta 0:00:01\r\u001b[K     |███████████████                 | 71kB 8.9MB/s eta 0:00:01\r\u001b[K     |█████████████████▏              | 81kB 10.0MB/s eta 0:00:01\r\u001b[K     |███████████████████▎            | 92kB 11.1MB/s eta 0:00:01\r\u001b[K     |█████████████████████▍          | 102kB 9.0MB/s eta 0:00:01\r\u001b[K     |███████████████████████▋        | 112kB 9.0MB/s eta 0:00:01\r\u001b[K     |█████████████████████████▊      | 122kB 9.0MB/s eta 0:00:01\r\u001b[K     |███████████████████████████▉    | 133kB 9.0MB/s eta 0:00:01\r\u001b[K     |██████████████████████████████  | 143kB 9.0MB/s eta 0:00:01\r\u001b[K     |████████████████████████████████| 153kB 9.0MB/s \n",
            "\u001b[?25h  Installing build dependencies ... \u001b[?25l\u001b[?25hdone\n",
            "  Getting requirements to build wheel ... \u001b[?25l\u001b[?25hdone\n",
            "    Preparing wheel metadata ... \u001b[?25l\u001b[?25hdone\n",
            "Building wheels for collected packages: glpk\n",
            "  Building wheel for glpk (PEP 517) ... \u001b[?25l\u001b[?25herror\n",
            "\u001b[31m  ERROR: Failed building wheel for glpk\u001b[0m\n",
            "  Running setup.py clean for glpk\n",
            "Failed to build glpk\n",
            "\u001b[31mERROR: Could not build wheels for glpk which use PEP 517 and cannot be installed directly\u001b[0m\n"
          ],
          "name": "stdout"
        }
      ]
    },
    {
      "cell_type": "code",
      "metadata": {
        "id": "hP2RRqUKaRax",
        "colab_type": "code",
        "outputId": "8faa93b6-9dee-491d-d117-b8b0609db2fd",
        "colab": {
          "base_uri": "https://localhost:8080/",
          "height": 390
        }
      },
      "source": [
        "# import PuLP\n",
        "from pulp import *\n",
        "# Create the 'prob' variable to contain the problem data\n",
        "prob = LpProblem(\"Charging a Blast Furnace\", LpMaximize)\n",
        "\n",
        "# Create problem variables\n",
        "x1=LpVariable(\"Thousand of pounds of pig iron A\",0,None,LpContinuous)\n",
        "x2=LpVariable(\"Thousand of pounds of pig iron B\",0, None, LpContinuous)\n",
        "x3=LpVariable(\"Thousand of pounds of pig iron C\",0, None, LpContinuous)\n",
        "x4=x2=LpVariable(\"Pounds of pure manganese\",0, None, LpContinuous)\n",
        "\n",
        "\n",
        "# The objective function is added to 'prob' first\n",
        "prob += 450 - 26*x1 - 30*x2 -20*x3 - 8*x4, \"Total profit; to be maximized\"\n",
        "# The two constraints are entered\n",
        "prob += 1000*x1 + 1000*x2 + 1000*x3 + x4 == 1000, \"Total amount produced is equal to 1000 pounds\"\n",
        "prob += 4.5*x1 + 5.0*x2 + 4.0*x3 + x4 >= 4.5, \"The castings should contain at lease 0.45 percent manganese of 1000 pounds\"\n",
        "prob += 40*x1 + 10*x2 + 6*x3 >= 32.5\n",
        "prob += 40*x1 + 10*x2 + 6*x3 <= 55.0\n",
        "\n",
        "# The problem data is written to an .lp file\n",
        "prob.writeLP(\"Charging a Blast Furnace.lp\")\n",
        "\n",
        "# The problem is solved using PuLP's choice of Solver\n",
        "GLPK().solve(prob)"
      ],
      "execution_count": 25,
      "outputs": [
        {
          "output_type": "stream",
          "text": [
            "/usr/local/lib/python3.6/dist-packages/pulp/pulp.py:1137: UserWarning: Spaces are not permitted in the name. Converted to '_'\n",
            "  warnings.warn(\"Spaces are not permitted in the name. Converted to '_'\")\n"
          ],
          "name": "stderr"
        },
        {
          "output_type": "error",
          "ename": "PulpSolverError",
          "evalue": "ignored",
          "traceback": [
            "\u001b[0;31m---------------------------------------------------------------------------\u001b[0m",
            "\u001b[0;31mPulpSolverError\u001b[0m                           Traceback (most recent call last)",
            "\u001b[0;32m<ipython-input-25-fef5f0dcd06a>\u001b[0m in \u001b[0;36m<module>\u001b[0;34m()\u001b[0m\n\u001b[1;32m     22\u001b[0m \u001b[0;34m\u001b[0m\u001b[0m\n\u001b[1;32m     23\u001b[0m \u001b[0;31m# The problem is solved using PuLP's choice of Solver\u001b[0m\u001b[0;34m\u001b[0m\u001b[0;34m\u001b[0m\u001b[0;34m\u001b[0m\u001b[0m\n\u001b[0;32m---> 24\u001b[0;31m \u001b[0mGLPK\u001b[0m\u001b[0;34m(\u001b[0m\u001b[0;34m)\u001b[0m\u001b[0;34m.\u001b[0m\u001b[0msolve\u001b[0m\u001b[0;34m(\u001b[0m\u001b[0mprob\u001b[0m\u001b[0;34m)\u001b[0m\u001b[0;34m\u001b[0m\u001b[0;34m\u001b[0m\u001b[0m\n\u001b[0m",
            "\u001b[0;32m/usr/local/lib/python3.6/dist-packages/pulp/solvers.py\u001b[0m in \u001b[0;36msolve\u001b[0;34m(self, lp)\u001b[0m\n\u001b[1;32m    202\u001b[0m         \u001b[0;34m\"\"\"Solve the problem lp\"\"\"\u001b[0m\u001b[0;34m\u001b[0m\u001b[0;34m\u001b[0m\u001b[0m\n\u001b[1;32m    203\u001b[0m         \u001b[0;31m# Always go through the solve method of LpProblem\u001b[0m\u001b[0;34m\u001b[0m\u001b[0;34m\u001b[0m\u001b[0;34m\u001b[0m\u001b[0m\n\u001b[0;32m--> 204\u001b[0;31m         \u001b[0;32mreturn\u001b[0m \u001b[0mlp\u001b[0m\u001b[0;34m.\u001b[0m\u001b[0msolve\u001b[0m\u001b[0;34m(\u001b[0m\u001b[0mself\u001b[0m\u001b[0;34m)\u001b[0m\u001b[0;34m\u001b[0m\u001b[0;34m\u001b[0m\u001b[0m\n\u001b[0m\u001b[1;32m    205\u001b[0m \u001b[0;34m\u001b[0m\u001b[0m\n\u001b[1;32m    206\u001b[0m     \u001b[0;31m#TODO: Not sure if this code should be here or in a child class\u001b[0m\u001b[0;34m\u001b[0m\u001b[0;34m\u001b[0m\u001b[0;34m\u001b[0m\u001b[0m\n",
            "\u001b[0;32m/usr/local/lib/python3.6/dist-packages/pulp/pulp.py\u001b[0m in \u001b[0;36msolve\u001b[0;34m(self, solver, **kwargs)\u001b[0m\n\u001b[1;32m   1711\u001b[0m         \u001b[0;31m#time it\u001b[0m\u001b[0;34m\u001b[0m\u001b[0;34m\u001b[0m\u001b[0;34m\u001b[0m\u001b[0m\n\u001b[1;32m   1712\u001b[0m         \u001b[0mself\u001b[0m\u001b[0;34m.\u001b[0m\u001b[0msolutionTime\u001b[0m \u001b[0;34m=\u001b[0m \u001b[0;34m-\u001b[0m\u001b[0mclock\u001b[0m\u001b[0;34m(\u001b[0m\u001b[0;34m)\u001b[0m\u001b[0;34m\u001b[0m\u001b[0;34m\u001b[0m\u001b[0m\n\u001b[0;32m-> 1713\u001b[0;31m         \u001b[0mstatus\u001b[0m \u001b[0;34m=\u001b[0m \u001b[0msolver\u001b[0m\u001b[0;34m.\u001b[0m\u001b[0mactualSolve\u001b[0m\u001b[0;34m(\u001b[0m\u001b[0mself\u001b[0m\u001b[0;34m,\u001b[0m \u001b[0;34m**\u001b[0m\u001b[0mkwargs\u001b[0m\u001b[0;34m)\u001b[0m\u001b[0;34m\u001b[0m\u001b[0;34m\u001b[0m\u001b[0m\n\u001b[0m\u001b[1;32m   1714\u001b[0m         \u001b[0mself\u001b[0m\u001b[0;34m.\u001b[0m\u001b[0msolutionTime\u001b[0m \u001b[0;34m+=\u001b[0m \u001b[0mclock\u001b[0m\u001b[0;34m(\u001b[0m\u001b[0;34m)\u001b[0m\u001b[0;34m\u001b[0m\u001b[0;34m\u001b[0m\u001b[0m\n\u001b[1;32m   1715\u001b[0m         \u001b[0mself\u001b[0m\u001b[0;34m.\u001b[0m\u001b[0mrestoreObjective\u001b[0m\u001b[0;34m(\u001b[0m\u001b[0mwasNone\u001b[0m\u001b[0;34m,\u001b[0m \u001b[0mdummyVar\u001b[0m\u001b[0;34m)\u001b[0m\u001b[0;34m\u001b[0m\u001b[0;34m\u001b[0m\u001b[0m\n",
            "\u001b[0;32m/usr/local/lib/python3.6/dist-packages/pulp/solvers.py\u001b[0m in \u001b[0;36mactualSolve\u001b[0;34m(self, lp)\u001b[0m\n\u001b[1;32m    370\u001b[0m         \u001b[0;34m\"\"\"Solve a well formulated lp problem\"\"\"\u001b[0m\u001b[0;34m\u001b[0m\u001b[0;34m\u001b[0m\u001b[0m\n\u001b[1;32m    371\u001b[0m         \u001b[0;32mif\u001b[0m \u001b[0;32mnot\u001b[0m \u001b[0mself\u001b[0m\u001b[0;34m.\u001b[0m\u001b[0mexecutable\u001b[0m\u001b[0;34m(\u001b[0m\u001b[0mself\u001b[0m\u001b[0;34m.\u001b[0m\u001b[0mpath\u001b[0m\u001b[0;34m)\u001b[0m\u001b[0;34m:\u001b[0m\u001b[0;34m\u001b[0m\u001b[0;34m\u001b[0m\u001b[0m\n\u001b[0;32m--> 372\u001b[0;31m             \u001b[0;32mraise\u001b[0m \u001b[0mPulpSolverError\u001b[0m\u001b[0;34m(\u001b[0m\u001b[0;34m\"PuLP: cannot execute \"\u001b[0m\u001b[0;34m+\u001b[0m\u001b[0mself\u001b[0m\u001b[0;34m.\u001b[0m\u001b[0mpath\u001b[0m\u001b[0;34m)\u001b[0m\u001b[0;34m\u001b[0m\u001b[0;34m\u001b[0m\u001b[0m\n\u001b[0m\u001b[1;32m    373\u001b[0m         \u001b[0;32mif\u001b[0m \u001b[0;32mnot\u001b[0m \u001b[0mself\u001b[0m\u001b[0;34m.\u001b[0m\u001b[0mkeepFiles\u001b[0m\u001b[0;34m:\u001b[0m\u001b[0;34m\u001b[0m\u001b[0;34m\u001b[0m\u001b[0m\n\u001b[1;32m    374\u001b[0m             \u001b[0muuid\u001b[0m \u001b[0;34m=\u001b[0m \u001b[0muuid4\u001b[0m\u001b[0;34m(\u001b[0m\u001b[0;34m)\u001b[0m\u001b[0;34m.\u001b[0m\u001b[0mhex\u001b[0m\u001b[0;34m\u001b[0m\u001b[0;34m\u001b[0m\u001b[0m\n",
            "\u001b[0;31mPulpSolverError\u001b[0m: PuLP: cannot execute glpsol"
          ]
        }
      ]
    },
    {
      "cell_type": "code",
      "metadata": {
        "id": "OcHL8X55c8Y-",
        "colab_type": "code",
        "outputId": "a38e3159-8b03-4e4c-d219-873550297785",
        "colab": {
          "base_uri": "https://localhost:8080/",
          "height": 34
        }
      },
      "source": [
        "print(\"Status:\", LpStatus[prob.status])"
      ],
      "execution_count": 5,
      "outputs": [
        {
          "output_type": "stream",
          "text": [
            "Status: Optimal\n"
          ],
          "name": "stdout"
        }
      ]
    },
    {
      "cell_type": "code",
      "metadata": {
        "id": "ZRXw8FmidA9B",
        "colab_type": "code",
        "outputId": "20aaa7a8-2083-41ca-dadf-6d6b127c174c",
        "colab": {
          "base_uri": "https://localhost:8080/",
          "height": 67
        }
      },
      "source": [
        "for v in prob.variables():\n",
        "    print(v.name, \"=\", v.varValue)"
      ],
      "execution_count": 6,
      "outputs": [
        {
          "output_type": "stream",
          "text": [
            "Pounds_of_pure_manganese = 0.05693291\n",
            "Thousand_of_pounds_of_pig_iron_A = 0.77272382\n",
            "Thousand_of_pounds_of_pig_iron_C = 0.17028633\n"
          ],
          "name": "stdout"
        }
      ]
    },
    {
      "cell_type": "code",
      "metadata": {
        "id": "mVt76vW4dGUN",
        "colab_type": "code",
        "outputId": "74f8b739-7ed1-4b2f-e282-814b6eea9320",
        "colab": {
          "base_uri": "https://localhost:8080/",
          "height": 34
        }
      },
      "source": [
        "print(\"Total profit that can be maximized = \", pulp.value(prob.objective))"
      ],
      "execution_count": 0,
      "outputs": [
        {
          "output_type": "stream",
          "text": [
            "Total profit that can be maximized =  424.3400035\n"
          ],
          "name": "stdout"
        }
      ]
    }
  ]
}