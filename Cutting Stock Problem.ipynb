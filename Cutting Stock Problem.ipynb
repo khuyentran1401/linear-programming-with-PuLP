{
 "cells": [
  {
   "cell_type": "code",
   "execution_count": 45,
   "metadata": {},
   "outputs": [],
   "source": [
    "from pulp import *"
   ]
  },
  {
   "cell_type": "code",
   "execution_count": 46,
   "metadata": {},
   "outputs": [],
   "source": [
    "prob = LpProblem(\"Cutting Stick\", LpMinimize)"
   ]
  },
  {
   "cell_type": "code",
   "execution_count": 47,
   "metadata": {},
   "outputs": [],
   "source": [
    "#Amount orders for each length ordered\n",
    "b = [80, 60, 200, 100]\n",
    "\n",
    "#Cost of each length available\n",
    "c = [0.3, 0.6, 0.7]\n",
    "\n",
    "#Cutting patterns with different lengths of ordered and available stocks\n",
    "a = {}\n",
    "\n",
    "a[0]= [[0, 0,],\n",
    "      [0, 0],\n",
    "      [1, 0],\n",
    "      [0, 2]]\n",
    "\n",
    "a[1] = [[0, 1, 0],\n",
    "       [1, 0, 1],\n",
    "       [0, 0, 0],\n",
    "       [1, 0, 0]]\n",
    "\n",
    "a[2] = [[1],\n",
    "       [0],\n",
    "       [0],\n",
    "       [1]]\n",
    "\n",
    "#Number of kinds of available lengths\n",
    "K = 3\n",
    "\n",
    "#Number of kinds of ordered lengths\n",
    "I = 4\n",
    "\n",
    "#Number of different ways to cut the stocks\n",
    "J = [2, 3, 1]"
   ]
  },
  {
   "cell_type": "code",
   "execution_count": 48,
   "metadata": {},
   "outputs": [],
   "source": [
    "#Define variables\n",
    "x = LpVariable.dicts(\"Ways\", [(k,j) for k in range(K) for j in range(J[k])], cat = 'Integer', lowBound=0)"
   ]
  },
  {
   "cell_type": "code",
   "execution_count": 49,
   "metadata": {},
   "outputs": [],
   "source": [
    "#Objective\n",
    "prob += lpSum(c[k] * x[(k,j)] for k in range(K) for j in range(J[k]))"
   ]
  },
  {
   "cell_type": "code",
   "execution_count": 50,
   "metadata": {},
   "outputs": [],
   "source": [
    "for i in range(I):\n",
    "    prob += lpSum(a[k][i][j] * x[k,j] for k in range(K) for j in range(J[k])) >= b[i]"
   ]
  },
  {
   "cell_type": "code",
   "execution_count": 51,
   "metadata": {},
   "outputs": [
    {
     "data": {
      "text/plain": [
       "1"
      ]
     },
     "execution_count": 51,
     "metadata": {},
     "output_type": "execute_result"
    }
   ],
   "source": [
    "prob.solve()"
   ]
  },
  {
   "cell_type": "code",
   "execution_count": 52,
   "metadata": {},
   "outputs": [
    {
     "name": "stdout",
     "output_type": "stream",
     "text": [
      "Way 1 using stock 1: 200.0\n",
      "Way 2 using stock 1: 0.0\n",
      "Way 1 using stock 2: 60.0\n",
      "Way 2 using stock 2: 40.0\n",
      "Way 3 using stock 2: 0.0\n",
      "Way 1 using stock 3: 40.0\n"
     ]
    }
   ],
   "source": [
    "for k in range(K):\n",
    "    for j in range(J[k]):\n",
    "        print('Way {} using stock {}: {}'.format(j+1,k+1,x[(k,j)].varValue))"
   ]
  },
  {
   "cell_type": "code",
   "execution_count": 53,
   "metadata": {},
   "outputs": [
    {
     "data": {
      "text/plain": [
       "148.0"
      ]
     },
     "execution_count": 53,
     "metadata": {},
     "output_type": "execute_result"
    }
   ],
   "source": [
    "pulp.value(prob.objective)"
   ]
  },
  {
   "cell_type": "code",
   "execution_count": 54,
   "metadata": {},
   "outputs": [
    {
     "data": {
      "text/plain": [
       "[Ways_(0,_0), Ways_(0,_1), Ways_(1,_0), Ways_(1,_1), Ways_(1,_2), Ways_(2,_0)]"
      ]
     },
     "execution_count": 54,
     "metadata": {},
     "output_type": "execute_result"
    }
   ],
   "source": [
    "prob.writeLP('Cutting Stock Problem')"
   ]
  },
  {
   "cell_type": "code",
   "execution_count": null,
   "metadata": {},
   "outputs": [],
   "source": []
  },
  {
   "cell_type": "code",
   "execution_count": null,
   "metadata": {},
   "outputs": [],
   "source": []
  }
 ],
 "metadata": {
  "kernelspec": {
   "display_name": "Python 3",
   "language": "python",
   "name": "python3"
  },
  "language_info": {
   "codemirror_mode": {
    "name": "ipython",
    "version": 3
   },
   "file_extension": ".py",
   "mimetype": "text/x-python",
   "name": "python",
   "nbconvert_exporter": "python",
   "pygments_lexer": "ipython3",
   "version": "3.7.4"
  }
 },
 "nbformat": 4,
 "nbformat_minor": 2
}
